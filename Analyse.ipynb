{
 "cells": [
  {
   "cell_type": "code",
   "execution_count": 46,
   "metadata": {},
   "outputs": [],
   "source": [
    "import csv\n",
    "from datetime import date, timedelta, datetime\n",
    "import matplotlib.pyplot as plt"
   ]
  },
  {
   "cell_type": "code",
   "execution_count": 47,
   "metadata": {},
   "outputs": [
    {
     "name": "stdout",
     "output_type": "stream",
     "text": [
      "Oops Krishna Bose death 2004-05-16\n",
      "Oops Harry G. Haskell Jr. death 1959-01-03\n",
      "Oops Nur Hassan Hussein death 2008-12-24\n",
      "Oops William John McNaughton death 2002-04-25\n",
      "Oops Andrea Mugione death 2016-02-18\n",
      "Oops Ng Jui Ping death 1995-07-01\n",
      "Oops Beni Prasad Verma death 2014-05-26\n",
      "Oops Clifford Wiens death 2006-01-15\n",
      "Oops Alfred Worden death 1978-12-31\n"
     ]
    }
   ],
   "source": [
    "d2020 = []\n",
    "with open('deaths2020.csv', 'r') as f:\n",
    "    r = csv.reader(f)\n",
    "    for row in r:\n",
    "        if row[0]=='Name': continue\n",
    "        name = row[0]\n",
    "        birth = date.fromisoformat(row[1])\n",
    "        death = date.fromisoformat(row[2])\n",
    "        covid = (row[3] == 'True')\n",
    "        created = date.fromisoformat(row[4])\n",
    "        if death < date(2020,1,1):\n",
    "            print (\"Oops {} death {}\".format(name, death))\n",
    "            continue\n",
    "        d2020.append([name,birth,death,covid,created])"
   ]
  },
  {
   "cell_type": "code",
   "execution_count": 65,
   "metadata": {},
   "outputs": [],
   "source": [
    "dd2020 = [row for row in d2020 if row[4] < date(2019,1,1)]"
   ]
  },
  {
   "cell_type": "code",
   "execution_count": 49,
   "metadata": {},
   "outputs": [],
   "source": [
    "dates = [date(2020,1,1)+timedelta(days=j) for j in range((date(2020,4,20)-date(2020,1,1)).days)]"
   ]
  },
  {
   "cell_type": "code",
   "execution_count": 50,
   "metadata": {},
   "outputs": [],
   "source": [
    "count_all = [0]*len(dates)\n",
    "count_cvd = [0]*len(dates)\n",
    "count_base = [0]*len(dates)"
   ]
  },
  {
   "cell_type": "code",
   "execution_count": 51,
   "metadata": {},
   "outputs": [],
   "source": [
    "for row in dd2020:\n",
    "    j=(row[2]-date(2020,1,1)).days\n",
    "    count_all[j] += 1\n",
    "    if row[3]:\n",
    "        count_cvd[j] += 1\n",
    "    else:\n",
    "        count_base[j] += 1"
   ]
  },
  {
   "cell_type": "code",
   "execution_count": 57,
   "metadata": {},
   "outputs": [
    {
     "data": {
      "text/plain": [
       "<matplotlib.legend.Legend at 0x7f179bd8c690>"
      ]
     },
     "execution_count": 57,
     "metadata": {},
     "output_type": "execute_result"
    },
    {
     "data": {
      "image/png": "[encoded data removed]",
      "text/plain": [
       "<Figure size 720x432 with 1 Axes>"
      ]
     },
     "metadata": {
      "needs_background": "light"
     },
     "output_type": "display_data"
    }
   ],
   "source": [
    "plt.figure(figsize=(10,6))\n",
    "plt.plot_date(dates, count_all, 'x')\n",
    "plt.plot_date(dates, count_base, 'v')\n",
    "plt.plot_date(dates, count_cvd, 'o')\n",
    "plt.legend(['All', 'Base', 'COVID'])"
   ]
  },
  {
   "cell_type": "code",
   "execution_count": 66,
   "metadata": {},
   "outputs": [],
   "source": [
    "ages = [(row[2] - row[1])/timedelta(days=365.25) for row in dd2020]\n",
    "ages_cvd = [(row[2] - row[1])/timedelta(days=365.25) for row in dd2020 if row[3]]"
   ]
  },
  {
   "cell_type": "code",
   "execution_count": 74,
   "metadata": {},
   "outputs": [
    {
     "data": {
      "text/plain": [
       "(array([ 0.,  0.,  1.,  0.,  0.,  1.,  0.,  1.,  2.,  0.,  2.,  7.,  8.,\n",
       "        11., 18., 21., 29., 24., 15.,  6.,  0.,  1.]),\n",
       " array([  0.,   5.,  10.,  15.,  20.,  25.,  30.,  35.,  40.,  45.,  50.,\n",
       "         55.,  60.,  65.,  70.,  75.,  80.,  85.,  90.,  95., 100., 105.,\n",
       "        110.]),\n",
       " <a list of 22 Patch objects>)"
      ]
     },
     "execution_count": 74,
     "metadata": {},
     "output_type": "execute_result"
    },
    {
     "data": {
      "image/png": "[encoded data removed]",
      "text/plain": [
       "<Figure size 720x432 with 1 Axes>"
      ]
     },
     "metadata": {
      "needs_background": "light"
     },
     "output_type": "display_data"
    }
   ],
   "source": [
    "plt.figure(figsize=(10,6))\n",
    "plt.hist(ages, bins=22, range=(0,110))\n",
    "plt.hist(ages_cvd, bins=22, range=(0,110))"
   ]
  },
  {
   "cell_type": "code",
   "execution_count": 64,
   "metadata": {},
   "outputs": [
    {
     "data": {
      "text/plain": [
       "<filter at 0x7f179bf68f10>"
      ]
     },
     "execution_count": 64,
     "metadata": {},
     "output_type": "execute_result"
    }
   ],
   "source": [
    "dd2020"
   ]
  },
  {
   "cell_type": "code",
   "execution_count": null,
   "metadata": {},
   "outputs": [],
   "source": []
  }
 ],
 "metadata": {
  "kernelspec": {
   "display_name": "Python 3",
   "language": "python",
   "name": "python3"
  },
  "language_info": {
   "codemirror_mode": {
    "name": "ipython",
    "version": 3
   },
   "file_extension": ".py",
   "mimetype": "text/x-python",
   "name": "python",
   "nbconvert_exporter": "python",
   "pygments_lexer": "ipython3",
   "version": "3.7.6"
  }
 },
 "nbformat": 4,
 "nbformat_minor": 4
}
